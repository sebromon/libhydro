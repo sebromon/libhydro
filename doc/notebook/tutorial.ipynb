{
 "metadata": {
  "name": "notebook_demo"
 },
 "nbformat": 3,
 "nbformat_minor": 0,
 "worksheets": [
  {
   "cells": [
    {
     "cell_type": "heading",
     "level": 1,
     "metadata": {},
     "source": [
      "Un tutoriel pour libhydro (version 0.2 - maj 20130830)"
     ]
    },
    {
     "cell_type": "heading",
     "level": 2,
     "metadata": {},
     "source": [
      "Le module core.sitehydro: les sites, les stations et les capteurs"
     ]
    },
    {
     "cell_type": "heading",
     "level": 4,
     "metadata": {},
     "source": [
      "Usage normal:"
     ]
    },
    {
     "cell_type": "code",
     "collapsed": false,
     "input": [
      "from libhydro.core import sitehydro\n",
      "\n",
      "s = sitehydro.Sitehydro('O0334010', libelle=u'La Garonne \u00e0 Toulouse')\n",
      "print(s)"
     ],
     "language": "python",
     "metadata": {},
     "outputs": [
      {
       "output_type": "stream",
       "stream": "stdout",
       "text": [
        "Site REEL O0334010::La Garonne \u00e0 Toulouse [0 station]\n"
       ]
      }
     ],
     "prompt_number": 21
    },
    {
     "cell_type": "code",
     "collapsed": false,
     "input": [
      "s.stations = [\n",
      "    sitehydro.Stationhydro('O033401001', libelle=u'La Garonne \u00e0 Toulouse - \u00e9chelle principale'),\n",
      "    sitehydro.Stationhydro('O033401001', libelle=u'La Garonne \u00e0 Toulouse - \u00e9chelle de secours')\n",
      "]\n",
      "s.typesite = 'SOURCE'\n",
      "print(s)\n",
      "for t in s.stations: print t"
     ],
     "language": "python",
     "metadata": {},
     "outputs": [
      {
       "output_type": "stream",
       "stream": "stdout",
       "text": [
        "Site SOURCE O0334010::La Garonne \u00e0 Toulouse [2 stations]\n",
        "Station LIMNI O033401001::La Garonne \u00e0 Toulouse - \u00e9chelle principale [0 capteur]\n",
        "Station LIMNI O033401001::La Garonne \u00e0 Toulouse - \u00e9chelle de secours [0 capteur]\n"
       ]
      }
     ],
     "prompt_number": 22
    },
    {
     "cell_type": "code",
     "collapsed": false,
     "input": [
      "c = sitehydro.Capteur('O03340100201', 'H', 'radar')\n",
      "print(c)"
     ],
     "language": "python",
     "metadata": {},
     "outputs": [
      {
       "output_type": "stream",
       "stream": "stdout",
       "text": [
        "Capteur H O03340100201::radar\n"
       ]
      }
     ],
     "prompt_number": 23
    },
    {
     "cell_type": "heading",
     "level": 4,
     "metadata": {},
     "source": [
      "Usage libre avec strict=False:"
     ]
    },
    {
     "cell_type": "code",
     "collapsed": false,
     "input": [
      "s = sitehydro.Sitehydro('site 10', stations=['station1', 'station2'], strict=False)\n",
      "print s\n",
      "# il faut au minimum un code...\n",
      "s = sitehydro.Sitehydro(10, strict=False)\n",
      "print(s)"
     ],
     "language": "python",
     "metadata": {},
     "outputs": [
      {
       "output_type": "stream",
       "stream": "stdout",
       "text": [
        "Site REEL site 10::<sans libelle> [2 stations]\n",
        "Site REEL 10::<sans libelle> [0 station]\n"
       ]
      }
     ],
     "prompt_number": 24
    },
    {
     "cell_type": "code",
     "collapsed": false,
     "input": [
      "c = sitehydro.Capteur(2, 'vitesse', strict=False)\n",
      "print(c)"
     ],
     "language": "python",
     "metadata": {},
     "outputs": [
      {
       "output_type": "stream",
       "stream": "stdout",
       "text": [
        "Capteur vitesse 2::<sans libelle>\n"
       ]
      }
     ],
     "prompt_number": 25
    },
    {
     "cell_type": "heading",
     "level": 2,
     "metadata": {},
     "source": [
      "Le module core.obshydro"
     ]
    },
    {
     "cell_type": "markdown",
     "metadata": {},
     "source": [
      "Les obshydro.Observations sont des pandas.DataFrame, dont l'index est une s\u00e9rie de timestamp. La seule colonne obligatoire est la colonne r\u00e9sultat."
     ]
    },
    {
     "cell_type": "heading",
     "level": 4,
     "metadata": {},
     "source": [
      "La classe Serie s'appuie sur les classe Observation et Observations:"
     ]
    },
    {
     "cell_type": "code",
     "collapsed": false,
     "input": [
      "from libhydro.core import sitehydro\n",
      "from libhydro.core import obshydro\n",
      "\n",
      "r = obshydro.Serie(\n",
      "    entite=sitehydro.Sitehydro('O0334010', libelle=u'La Garonne \u00e0 Toulouse'),\n",
      "    grandeur='H',\n",
      "    observations=obshydro.Observations(\n",
      "        obshydro.Observation('2012-10-05 10:33', 10),\n",
      "        obshydro.Observation('2012-10-05 11:33', 20),\n",
      "        obshydro.Observation('2012-10-05 12:33', 30)\n",
      "    )\n",
      ")\n",
      "print(r)"
     ],
     "language": "python",
     "metadata": {},
     "outputs": [
      {
       "output_type": "stream",
       "stream": "stdout",
       "text": [
        "Serie H sur le Site REEL O0334010::La Garonne \u00e0 Toulouse [0 station]\n",
        "Statut 0::sans validation\n",
        "------------------------------------------------------------------------\n",
        "Observations:\n",
        "                     res  mth  qal   cnt\n",
        "dte                                     \n",
        "2012-10-05 08:33:00   10    0   16  True\n",
        "2012-10-05 09:33:00   20    0   16  True\n",
        "2012-10-05 10:33:00   30    0   16  True\n",
        "3 values\n"
       ]
      }
     ],
     "prompt_number": 26
    },
    {
     "cell_type": "heading",
     "level": 4,
     "metadata": {},
     "source": [
      "Une obshydro.Serie \u00e0 partir du convertisseur SHOM:"
     ]
    },
    {
     "cell_type": "code",
     "collapsed": false,
     "input": [
      "from libhydro.conv import shom\n",
      "\n",
      "r = shom.serie_from_hfs('../test/data/shom/LOCMARIAQUER.hfs')\n",
      "print(r)\n",
      "r.observations.plot()"
     ],
     "language": "python",
     "metadata": {},
     "outputs": [
      {
       "output_type": "stream",
       "stream": "stdout",
       "text": [
        "Serie H sur la Station LIMNI <sans code>::LOCMARIAQUER [0 capteur]\n",
        "Statut 0::sans validation\n",
        "------------------------------------------------------------------------\n",
        "Observations:\n",
        "                      res\n",
        "dte                      \n",
        "2013-01-23 00:00:00  3.46\n",
        "2013-01-23 00:10:00  3.51\n",
        "2013-01-23 00:20:00  3.55\n",
        "2013-01-23 00:30:00  3.58\n",
        "2013-01-23 00:40:00  3.62\n",
        "2013-01-23 00:50:00  3.64\n",
        "2013-01-23 01:00:00  3.66\n",
        "2013-01-23 01:10:00  3.68\n",
        "2013-01-23 01:20:00  3.70\n",
        "2013-01-23 01:30:00  3.70\n",
        "2013-01-23 01:40:00  3.71\n",
        "2013-01-23 01:50:00  3.70\n",
        "2013-01-23 02:00:00  3.70\n",
        "2013-01-23 02:10:00  3.68\n",
        "2013-01-23 02:20:00  3.67\n",
        "...\n",
        "2013-01-23 21:30:00  1.85\n",
        "2013-01-23 21:40:00  1.92\n",
        "2013-01-23 21:50:00  2.01\n",
        "2013-01-23 22:00:00  2.09\n",
        "2013-01-23 22:10:00  2.19\n",
        "2013-01-23 22:20:00  2.28\n",
        "2013-01-23 22:30:00  2.38\n",
        "2013-01-23 22:40:00  2.48\n",
        "2013-01-23 22:50:00  2.59\n",
        "2013-01-23 23:00:00  2.69\n",
        "2013-01-23 23:10:00  2.79\n",
        "2013-01-23 23:20:00  2.89\n",
        "2013-01-23 23:30:00  2.99\n",
        "2013-01-23 23:40:00  3.09\n",
        "2013-01-23 23:50:00  3.18\n",
        "<class 'pandas.core.frame.DataFrame'>\n",
        "DatetimeIndex: 144 entries, 2013-01-23 00:00:00 to 2013-01-23 23:50:00\n",
        "Data columns (total 1 columns):\n",
        "res    144  non-null values\n",
        "dtypes: float64(1)\n"
       ]
      },
      {
       "output_type": "pyout",
       "prompt_number": 27,
       "text": [
        "<matplotlib.axes.AxesSubplot at 0x4161c90>"
       ]
      },
      {
       "output_type": "display_data",
       "png": "[encoded data removed]"
      }
     ],
     "prompt_number": 27
    },
    {
     "cell_type": "heading",
     "level": 2,
     "metadata": {},
     "source": [
      "Le module core.simulation"
     ]
    },
    {
     "cell_type": "markdown",
     "metadata": {},
     "source": [
      "Les simulation.Previsions sont des pandas.Series avec un double index (hiearchical index): une date et une probabilit\u00e9 de pr\u00e9vision.\n",
      "En d\u00e9rogation au mod\u00e8le de donn\u00e9es, les r\u00e9sultats (min, moy ,max) sont trait\u00e9s comme des pr\u00e9visions de probabilit\u00e9 respective (0, 50, 100)."
     ]
    },
    {
     "cell_type": "code",
     "collapsed": false,
     "input": [
      "from libhydro.conv import shom\n",
      "import pylab\n",
      "\n",
      "font = {'family': 'sans', 'color': 'darkgreen', 'weight': 'bold', 'size': 20}\n",
      "\n",
      "r = shom.simulation_from_hfs('../test/data/shom/LOCMARIAQUER.hfs')\n",
      "print(r)\n",
      "r.previsions['2013-01-23 10:00':'2013-01-23 23:00'].plot(\n",
      "    style='^', color='r', grid=0, linewidth=5\n",
      ")\n",
      "# title\n",
      "pylab.title('Graphique data SHOM', fontdict=font)\n",
      "pylab.text(1, 4.5, r.entite, fontdict={'family': 'sans', 'color': 'green', 'size': 12})\n",
      "# axis\n",
      "pylab.xlabel('Date', fontdict=font)\n",
      "pylab.ylabel('Hauteur', fontdict=font)\n",
      "pylab.xticks(rotation=45)\n",
      "pylab.legend(loc='upper right')"
     ],
     "language": "python",
     "metadata": {},
     "outputs": [
      {
       "output_type": "stream",
       "stream": "stdout",
       "text": [
        "Simulation critiquee de H sur la Station LIMNI <sans code>::LOCMARIAQUER [0 capteur]\n",
        "Date de production: <inconnue> - Qualite 100%\n",
        "Commentaire: data SHOM\n",
        "------------------------------------------------------------------------\n",
        "Modele de type <inconnu> SCnMERshom::<sans libelle>\n",
        "Description: <sans description>\n",
        "------------------------------------------------------------------------\n",
        "Previsions:\n",
        " dte                  prb\n",
        "2013-01-23 00:00:00  50     3.46\n",
        "2013-01-23 00:10:00  50     3.51\n",
        "2013-01-23 00:20:00  50     3.55\n",
        "2013-01-23 00:30:00  50     3.58\n",
        "2013-01-23 00:40:00  50     3.62\n",
        "2013-01-23 00:50:00  50     3.64\n",
        "2013-01-23 01:00:00  50     3.66\n",
        "2013-01-23 01:10:00  50     3.68\n",
        "2013-01-23 01:20:00  50     3.70\n",
        "2013-01-23 01:30:00  50     3.70\n",
        "2013-01-23 01:40:00  50     3.71\n",
        "2013-01-23 01:50:00  50     3.70\n",
        "2013-01-23 02:00:00  50     3.70\n",
        "2013-01-23 02:10:00  50     3.68\n",
        "2013-01-23 02:20:00  50     3.67\n",
        "...\n",
        "2013-01-23 21:30:00  50     1.85\n",
        "2013-01-23 21:40:00  50     1.92\n",
        "2013-01-23 21:50:00  50     2.01\n",
        "2013-01-23 22:00:00  50     2.09\n",
        "2013-01-23 22:10:00  50     2.19\n",
        "2013-01-23 22:20:00  50     2.28\n",
        "2013-01-23 22:30:00  50     2.38\n",
        "2013-01-23 22:40:00  50     2.48\n",
        "2013-01-23 22:50:00  50     2.59\n",
        "2013-01-23 23:00:00  50     2.69\n",
        "2013-01-23 23:10:00  50     2.79\n",
        "2013-01-23 23:20:00  50     2.89\n",
        "2013-01-23 23:30:00  50     2.99\n",
        "2013-01-23 23:40:00  50     3.09\n",
        "2013-01-23 23:50:00  50     3.18\n",
        "Name: res, Length: 144, dtype: float64\n"
       ]
      },
      {
       "output_type": "pyout",
       "prompt_number": 28,
       "text": [
        "<matplotlib.legend.Legend at 0x3c630d0>"
       ]
      },
      {
       "output_type": "display_data",
       "png": "[encoded data removed]"
      }
     ],
     "prompt_number": 28
    },
    {
     "cell_type": "raw",
     "metadata": {},
     "source": [
      "Options for the color characters are:\n",
      " 'r' = red\n",
      " 'g' = green\n",
      " 'b' = blue\n",
      " 'c' = cyan\n",
      " 'm' = magenta\n",
      " 'y' = yellow\n",
      " 'k' = black\n",
      " 'w' = white\n",
      "\n",
      "Options for line styles are\n",
      " '-' = solid\n",
      " '--' = dashed\n",
      " ':' = dotted\n",
      " '-.' = dot-dashed\n",
      " '.' = points\n",
      " 'o' = filled circles\n",
      " '^' = filled triangles"
     ]
    },
    {
     "cell_type": "heading",
     "level": 2,
     "metadata": {},
     "source": [
      "Les autres modules core impl\u00e9ment\u00e9s: intervenant et modeleprevision"
     ]
    },
    {
     "cell_type": "code",
     "collapsed": false,
     "input": [
      "from libhydro.core import (intervenant, modeleprevision)\n",
      "\n",
      "c = intervenant.Contact(10, 'Robert')\n",
      "i = intervenant.Intervenant(code='1537', nom='SCHAPI', contacts=[c])\n",
      "c.intervenant = i\n",
      "print c, ' *** ', c.intervenant"
     ],
     "language": "python",
     "metadata": {},
     "outputs": [
      {
       "output_type": "stream",
       "stream": "stdout",
       "text": [
        "Contact 10::<sans civilite> Robert <sans prenom>  ***  Intervenant SANDRE 1537::<sans mnemo> [1 contact]\n"
       ]
      }
     ],
     "prompt_number": 29
    },
    {
     "cell_type": "raw",
     "metadata": {},
     "source": [
      "Classe Contact: Classe pour manipuler des contacts.\n",
      "\n",
      "Proprietes:\n",
      "    code (entier < 9999, defaut 0)\n",
      "    nom (string)\n",
      "    prenom (string)\n",
      "    civilite (entier parmi NOMENCLATURE[538])\n",
      "    intervenant (Intervenant)\n",
      "\n",
      "\n",
      "Classe Intervenant: Classe pour manipuler les intervenants Sandre.\n",
      "\n",
      "Proprietes:\n",
      "    code (int) = code SIRET (14 chiffres) ou Sandre\n",
      "    origine (string in (SIRET, SANDRE)) = origine du code\n",
      "    nom (string) = nom de l'intervenant\n",
      "    mnemo (string) = mnemonique\n",
      "    contacts (une liste de Contact)"
     ]
    },
    {
     "cell_type": "code",
     "collapsed": false,
     "input": [
      "from libhydro.core import modeleprevision\n",
      "\n",
      "m = modeleprevision.Modeleprevision('ScnMerSHOM', 'predictions du SHOM', typemodele=3)\n",
      "print m"
     ],
     "language": "python",
     "metadata": {},
     "outputs": [
      {
       "output_type": "stream",
       "stream": "stdout",
       "text": [
        "Modele de type 3 ScnMerSHOM::predictions du SHOM\n",
        "Description: <sans description>\n"
       ]
      }
     ],
     "prompt_number": 30
    },
    {
     "cell_type": "raw",
     "metadata": {},
     "source": [
      "Class Modeleprevision.\n",
      "\n",
      "Classe pour manipuler les modeles numeriques de prevision.\n",
      "\n",
      "Proprietes:\n",
      "    code (string <= 10) =\n",
      "    libelle (string)\n",
      "    typemodele (integer parmi NOMENCLATURE[525])\n",
      "    description (string)"
     ]
    },
    {
     "cell_type": "heading",
     "level": 2,
     "metadata": {},
     "source": [
      "Le convertisseur Xml Hydrom\u00e9trie"
     ]
    },
    {
     "cell_type": "code",
     "collapsed": false,
     "input": [
      "TODO"
     ],
     "language": "python",
     "metadata": {},
     "outputs": [
      {
       "ename": "NameError",
       "evalue": "name 'TODO' is not defined",
       "output_type": "pyerr",
       "traceback": [
        "\u001b[1;31m---------------------------------------------------------------------------\u001b[0m\n\u001b[1;31mNameError\u001b[0m                                 Traceback (most recent call last)",
        "\u001b[1;32m<ipython-input-31-9b7105f44b18>\u001b[0m in \u001b[0;36m<module>\u001b[1;34m()\u001b[0m\n\u001b[1;32m----> 1\u001b[1;33m \u001b[0mTODO\u001b[0m\u001b[1;33m\u001b[0m\u001b[0m\n\u001b[0m",
        "\u001b[1;31mNameError\u001b[0m: name 'TODO' is not defined"
       ]
      }
     ],
     "prompt_number": 31
    }
   ],
   "metadata": {}
  }
 ]
}