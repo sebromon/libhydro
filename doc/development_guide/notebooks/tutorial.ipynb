{
 "metadata": {
  "name": "",
  "signature": "sha256:be3f88f9abe451330019c0b712bdbeac4e872536f21de2c762e36d82bb98f93a"
 },
 "nbformat": 3,
 "nbformat_minor": 0,
 "worksheets": [
  {
   "cells": [
    {
     "cell_type": "heading",
     "level": 1,
     "metadata": {},
     "source": [
      "Un tutoriel pour libhydro (version 0.5.1 - maj 20140802)"
     ]
    },
    {
     "cell_type": "heading",
     "level": 2,
     "metadata": {},
     "source": [
      "Initialisation"
     ]
    },
    {
     "cell_type": "code",
     "collapsed": false,
     "input": [
      "# imports recommand\u00e9s\n",
      "from __future__ import (\n",
      "    unicode_literals as _unicode_literals,\n",
      "    absolute_import as _absolute_import,\n",
      "    division as _division,\n",
      "    print_function as _print_function\n",
      ")"
     ],
     "language": "python",
     "metadata": {},
     "outputs": [],
     "prompt_number": 27
    },
    {
     "cell_type": "heading",
     "level": 2,
     "metadata": {},
     "source": [
      "Le module core.sitehydro: les sites hydrom\u00e9triques, les stations et les capteurs"
     ]
    },
    {
     "cell_type": "heading",
     "level": 4,
     "metadata": {},
     "source": [
      "Usage normal:"
     ]
    },
    {
     "cell_type": "code",
     "collapsed": false,
     "input": [
      "from libhydro.core import sitehydro\n",
      "\n",
      "s = sitehydro.Sitehydro(code='O0334010', libelle='La Garonne \u00e0 Toulouse')\n",
      "print(s)"
     ],
     "language": "python",
     "metadata": {},
     "outputs": [
      {
       "output_type": "stream",
       "stream": "stdout",
       "text": [
        "Site REEL O0334010::La Garonne \u00e0 Toulouse [0 station]\n"
       ]
      }
     ],
     "prompt_number": 28
    },
    {
     "cell_type": "code",
     "collapsed": false,
     "input": [
      "s.stations = [\n",
      "    sitehydro.Stationhydro(code='O033401001', libelle='La Garonne \u00e0 Toulouse - \u00e9chelle principale'),\n",
      "    sitehydro.Stationhydro(code='O033401001', libelle='La Garonne \u00e0 Toulouse - \u00e9chelle de secours')\n",
      "]\n",
      "s.typesite = 'SOURCE'\n",
      "print(s)\n",
      "for t in s.stations:\n",
      "    print(t)"
     ],
     "language": "python",
     "metadata": {},
     "outputs": [
      {
       "output_type": "stream",
       "stream": "stdout",
       "text": [
        "Site SOURCE O0334010::La Garonne \u00e0 Toulouse [2 stations]\n",
        "Station LIMNI O033401001::La Garonne \u00e0 Toulouse - \u00e9chelle principale [0 capteur]\n",
        "Station LIMNI O033401001::La Garonne \u00e0 Toulouse - \u00e9chelle de secours [0 capteur]\n"
       ]
      }
     ],
     "prompt_number": 29
    },
    {
     "cell_type": "code",
     "collapsed": false,
     "input": [
      "c = sitehydro.Capteur(code='O03340100201', typemesure='H', libelle='radar')\n",
      "print(c)"
     ],
     "language": "python",
     "metadata": {},
     "outputs": [
      {
       "output_type": "stream",
       "stream": "stdout",
       "text": [
        "Capteur H O03340100201::radar\n"
       ]
      }
     ],
     "prompt_number": 30
    },
    {
     "cell_type": "heading",
     "level": 4,
     "metadata": {},
     "source": [
      "Usage libre avec strict=False:"
     ]
    },
    {
     "cell_type": "code",
     "collapsed": false,
     "input": [
      "s = sitehydro.Sitehydro('site 10', stations=['station1', 'station2'], strict=False)\n",
      "print(s)\n",
      "# il faut au minimum un code...\n",
      "s = sitehydro.Sitehydro(10, strict=False)\n",
      "print(s)"
     ],
     "language": "python",
     "metadata": {},
     "outputs": [
      {
       "output_type": "stream",
       "stream": "stdout",
       "text": [
        "Site REEL site 10::<sans libelle> [2 stations]\n",
        "Site REEL 10::<sans libelle> [0 station]\n"
       ]
      }
     ],
     "prompt_number": 31
    },
    {
     "cell_type": "code",
     "collapsed": false,
     "input": [
      "c = sitehydro.Capteur(code=2, typemesure='vitesse', strict=False)\n",
      "print(c)"
     ],
     "language": "python",
     "metadata": {},
     "outputs": [
      {
       "output_type": "stream",
       "stream": "stdout",
       "text": [
        "Capteur vitesse 2::<sans libelle>\n"
       ]
      }
     ],
     "prompt_number": 32
    },
    {
     "cell_type": "heading",
     "level": 2,
     "metadata": {},
     "source": [
      "Le module core.sitemeteo: les sites m\u00e9t\u00e9orologiques et les grandeurs"
     ]
    },
    {
     "cell_type": "code",
     "collapsed": false,
     "input": [
      "from libhydro.core import nomenclature, sitemeteo\n",
      "\n",
      "print('Grandeurs disponibles: {}\\n'.format(', '.join(nomenclature.NOMENCLATURE[523])))\n",
      "\n",
      "g1 = sitemeteo.Grandeur('RR')\n",
      "g2 = sitemeteo.Grandeur('TA')\n",
      "s= sitemeteo.Sitemeteo(\n",
      "    code='01089001',\n",
      "    libelle='AMBERIEU',\n",
      "    coord=[45.976, 5.329, 16],\n",
      "    commune='01089',\n",
      "    grandeurs=[g1, g2]\n",
      ")\n",
      "g1.sitemeteo = g2.sitemeteo = s  # navigabilit\u00e9 de la grandeur vers le site\n",
      "\n",
      "print('{}\\n{}\\n'.format(s, s.coord))\n",
      "print(s.grandeurs[1])"
     ],
     "language": "python",
     "metadata": {},
     "outputs": [
      {
       "output_type": "stream",
       "stream": "stdout",
       "text": [
        "Grandeurs disponibles: EM, EE, HN, VV, DV, HA, EP, ER, RR, HR, PA, RA, TA\n",
        "\n",
        "Sitemeteo 001089001::AMBERIEU [2 grandeurs]\n",
        "Coord (x=45.976, y=5.329) [proj WGS84 UTM30]\n",
        "\n",
        "Grandeur TA sur le site meteo 001089001\n"
       ]
      }
     ],
     "prompt_number": 33
    },
    {
     "cell_type": "heading",
     "level": 2,
     "metadata": {},
     "source": [
      "Le module core.obshydro"
     ]
    },
    {
     "cell_type": "markdown",
     "metadata": {},
     "source": [
      "Les obshydro.Observations sont des pandas.DataFrame, dont l'index est une s\u00e9rie de timestamp. La seule colonne obligatoire est la colonne r\u00e9sultat."
     ]
    },
    {
     "cell_type": "heading",
     "level": 4,
     "metadata": {},
     "source": [
      "La classe Serie s'appuie sur les classe Observation et Observations:"
     ]
    },
    {
     "cell_type": "code",
     "collapsed": false,
     "input": [
      "from libhydro.core import sitehydro\n",
      "from libhydro.core import obshydro\n",
      "\n",
      "r = obshydro.Serie(\n",
      "    entite=sitehydro.Sitehydro(code='O0334010', libelle='La Garonne \u00e0 Toulouse'),\n",
      "    grandeur='H',\n",
      "    observations=obshydro.Observations(\n",
      "        obshydro.Observation('2012-10-05 08:33+00', 10),\n",
      "        obshydro.Observation('2012-10-05 09:33Z', 20),\n",
      "        obshydro.Observation('2012-10-05 12:33', 30),\n",
      "        obshydro.Observation('2012-10-06 11:33', 40),\n",
      "        obshydro.Observation('2012-10-07 11:33', 50),\n",
      "        obshydro.Observation('2012-10-08 11:33', 60)\n",
      "\n",
      "    )\n",
      ")\n",
      "print('ATTENTION, heure locale => TU !\\n')\n",
      "print(r)"
     ],
     "language": "python",
     "metadata": {},
     "outputs": [
      {
       "output_type": "stream",
       "stream": "stdout",
       "text": [
        "ATTENTION, heure locale => TU !\n",
        "\n",
        "Serie H sur le Site REEL O0334010::La Garonne \u00e0 Toulouse [0 station]\n",
        "Statut 0::sans validation\n",
        "------------------------------------------------------------------------\n",
        "Observations:\n",
        "                     res  mth  qal   cnt\n",
        "dte                                     \n",
        "2012-10-05 08:33:00   10    0   16  True\n",
        "2012-10-05 09:33:00   20    0   16  True\n",
        "2012-10-05 10:33:00   30    0   16  True\n",
        "2012-10-06 09:33:00   40    0   16  True\n",
        "2012-10-07 09:33:00   50    0   16  True\n",
        "2012-10-08 09:33:00   60    0   16  True\n",
        "\n",
        "[6 rows x 4 columns]\n"
       ]
      }
     ],
     "prompt_number": 34
    },
    {
     "cell_type": "heading",
     "level": 4,
     "metadata": {},
     "source": [
      "Extraction de valeurs"
     ]
    },
    {
     "cell_type": "code",
     "collapsed": false,
     "input": [
      "# r\u00e9cup\u00e9rer une pandas.Serie ne contenat que la colonne 'res'\n",
      "print(r.observations.res) # idem r.observations['res']\n",
      "print('-' * 70)\n",
      "# avec ix on peut r\u00e9cup\u00e9rer l'observation d'un timestamp pr\u00e9cis...\n",
      "print(r.observations.ix['2012-10-05 10:33+00'])\n",
      "print('-' * 70)\n",
      "# ... ou impr\u00e9cis\n",
      "print(r.observations.ix['2012-10-05'].res)"
     ],
     "language": "python",
     "metadata": {},
     "outputs": [
      {
       "output_type": "stream",
       "stream": "stdout",
       "text": [
        "dte\n",
        "2012-10-05 08:33:00    10\n",
        "2012-10-05 09:33:00    20\n",
        "2012-10-05 10:33:00    30\n",
        "2012-10-06 09:33:00    40\n",
        "2012-10-07 09:33:00    50\n",
        "2012-10-08 09:33:00    60\n",
        "Name: res, dtype: float64\n",
        "----------------------------------------------------------------------\n",
        "res      30\n",
        "mth       0\n",
        "qal      16\n",
        "cnt    True\n",
        "Name: 2012-10-05 10:33:00, dtype: object\n",
        "----------------------------------------------------------------------\n",
        "dte\n",
        "2012-10-05 08:33:00    10\n",
        "2012-10-05 09:33:00    20\n",
        "2012-10-05 10:33:00    30\n",
        "Name: res, dtype: float64\n"
       ]
      }
     ],
     "prompt_number": 35
    },
    {
     "cell_type": "code",
     "collapsed": false,
     "input": [
      "# tri par l'index et it\u00e9ration\n",
      "obss = r.observations.sort(ascending=False)[2:4]\n",
      "for obs in obss.iterrows():\n",
      "    # iterrows() retourne un tuple(index, observation)\n",
      "    print('Index: {} - Res: {}'.format(obs[0], obs[1].res))"
     ],
     "language": "python",
     "metadata": {},
     "outputs": [
      {
       "output_type": "stream",
       "stream": "stdout",
       "text": [
        "Index: 2012-10-06 09:33:00 - Res: 40.0\n",
        "Index: 2012-10-05 10:33:00 - Res: 30.0\n"
       ]
      }
     ],
     "prompt_number": 36
    },
    {
     "cell_type": "heading",
     "level": 4,
     "metadata": {},
     "source": [
      "Slicing"
     ]
    },
    {
     "cell_type": "code",
     "collapsed": false,
     "input": [
      "r.observations['2012-10-05 10:33+00':]"
     ],
     "language": "python",
     "metadata": {},
     "outputs": [
      {
       "html": [
        "<div style=\"max-height:1000px;max-width:1500px;overflow:auto;\">\n",
        "<table border=\"1\" class=\"dataframe\">\n",
        "  <thead>\n",
        "    <tr style=\"text-align: right;\">\n",
        "      <th></th>\n",
        "      <th>res</th>\n",
        "      <th>mth</th>\n",
        "      <th>qal</th>\n",
        "      <th>cnt</th>\n",
        "    </tr>\n",
        "    <tr>\n",
        "      <th>dte</th>\n",
        "      <th></th>\n",
        "      <th></th>\n",
        "      <th></th>\n",
        "      <th></th>\n",
        "    </tr>\n",
        "  </thead>\n",
        "  <tbody>\n",
        "    <tr>\n",
        "      <th>2012-10-05 10:33:00</th>\n",
        "      <td> 30</td>\n",
        "      <td> 0</td>\n",
        "      <td> 16</td>\n",
        "      <td> True</td>\n",
        "    </tr>\n",
        "    <tr>\n",
        "      <th>2012-10-06 09:33:00</th>\n",
        "      <td> 40</td>\n",
        "      <td> 0</td>\n",
        "      <td> 16</td>\n",
        "      <td> True</td>\n",
        "    </tr>\n",
        "    <tr>\n",
        "      <th>2012-10-07 09:33:00</th>\n",
        "      <td> 50</td>\n",
        "      <td> 0</td>\n",
        "      <td> 16</td>\n",
        "      <td> True</td>\n",
        "    </tr>\n",
        "    <tr>\n",
        "      <th>2012-10-08 09:33:00</th>\n",
        "      <td> 60</td>\n",
        "      <td> 0</td>\n",
        "      <td> 16</td>\n",
        "      <td> True</td>\n",
        "    </tr>\n",
        "  </tbody>\n",
        "</table>\n",
        "<p>4 rows \u00d7 4 columns</p>\n",
        "</div>"
       ],
       "metadata": {},
       "output_type": "pyout",
       "prompt_number": 37,
       "text": [
        "                     res  mth  qal   cnt\n",
        "dte                                     \n",
        "2012-10-05 10:33:00   30    0   16  True\n",
        "2012-10-06 09:33:00   40    0   16  True\n",
        "2012-10-07 09:33:00   50    0   16  True\n",
        "2012-10-08 09:33:00   60    0   16  True\n",
        "\n",
        "[4 rows x 4 columns]"
       ]
      }
     ],
     "prompt_number": 37
    },
    {
     "cell_type": "code",
     "collapsed": false,
     "input": [
      "r.observations[:'2012-10-05 11:33+00']"
     ],
     "language": "python",
     "metadata": {},
     "outputs": [
      {
       "html": [
        "<div style=\"max-height:1000px;max-width:1500px;overflow:auto;\">\n",
        "<table border=\"1\" class=\"dataframe\">\n",
        "  <thead>\n",
        "    <tr style=\"text-align: right;\">\n",
        "      <th></th>\n",
        "      <th>res</th>\n",
        "      <th>mth</th>\n",
        "      <th>qal</th>\n",
        "      <th>cnt</th>\n",
        "    </tr>\n",
        "    <tr>\n",
        "      <th>dte</th>\n",
        "      <th></th>\n",
        "      <th></th>\n",
        "      <th></th>\n",
        "      <th></th>\n",
        "    </tr>\n",
        "  </thead>\n",
        "  <tbody>\n",
        "    <tr>\n",
        "      <th>2012-10-05 08:33:00</th>\n",
        "      <td> 10</td>\n",
        "      <td> 0</td>\n",
        "      <td> 16</td>\n",
        "      <td> True</td>\n",
        "    </tr>\n",
        "    <tr>\n",
        "      <th>2012-10-05 09:33:00</th>\n",
        "      <td> 20</td>\n",
        "      <td> 0</td>\n",
        "      <td> 16</td>\n",
        "      <td> True</td>\n",
        "    </tr>\n",
        "    <tr>\n",
        "      <th>2012-10-05 10:33:00</th>\n",
        "      <td> 30</td>\n",
        "      <td> 0</td>\n",
        "      <td> 16</td>\n",
        "      <td> True</td>\n",
        "    </tr>\n",
        "  </tbody>\n",
        "</table>\n",
        "<p>3 rows \u00d7 4 columns</p>\n",
        "</div>"
       ],
       "metadata": {},
       "output_type": "pyout",
       "prompt_number": 38,
       "text": [
        "                     res  mth  qal   cnt\n",
        "dte                                     \n",
        "2012-10-05 08:33:00   10    0   16  True\n",
        "2012-10-05 09:33:00   20    0   16  True\n",
        "2012-10-05 10:33:00   30    0   16  True\n",
        "\n",
        "[3 rows x 4 columns]"
       ]
      }
     ],
     "prompt_number": 38
    },
    {
     "cell_type": "heading",
     "level": 4,
     "metadata": {},
     "source": [
      "Concat\u00e9nation"
     ]
    },
    {
     "cell_type": "code",
     "collapsed": false,
     "input": [
      "obshydro.Observations.concat(r.observations, r.observations)"
     ],
     "language": "python",
     "metadata": {},
     "outputs": [
      {
       "html": [
        "<div style=\"max-height:1000px;max-width:1500px;overflow:auto;\">\n",
        "<table border=\"1\" class=\"dataframe\">\n",
        "  <thead>\n",
        "    <tr style=\"text-align: right;\">\n",
        "      <th></th>\n",
        "      <th>res</th>\n",
        "      <th>mth</th>\n",
        "      <th>qal</th>\n",
        "      <th>cnt</th>\n",
        "    </tr>\n",
        "    <tr>\n",
        "      <th>dte</th>\n",
        "      <th></th>\n",
        "      <th></th>\n",
        "      <th></th>\n",
        "      <th></th>\n",
        "    </tr>\n",
        "  </thead>\n",
        "  <tbody>\n",
        "    <tr>\n",
        "      <th>2012-10-05 08:33:00</th>\n",
        "      <td> 10</td>\n",
        "      <td> 0</td>\n",
        "      <td> 16</td>\n",
        "      <td> True</td>\n",
        "    </tr>\n",
        "    <tr>\n",
        "      <th>2012-10-05 09:33:00</th>\n",
        "      <td> 20</td>\n",
        "      <td> 0</td>\n",
        "      <td> 16</td>\n",
        "      <td> True</td>\n",
        "    </tr>\n",
        "    <tr>\n",
        "      <th>2012-10-05 10:33:00</th>\n",
        "      <td> 30</td>\n",
        "      <td> 0</td>\n",
        "      <td> 16</td>\n",
        "      <td> True</td>\n",
        "    </tr>\n",
        "    <tr>\n",
        "      <th>2012-10-06 09:33:00</th>\n",
        "      <td> 40</td>\n",
        "      <td> 0</td>\n",
        "      <td> 16</td>\n",
        "      <td> True</td>\n",
        "    </tr>\n",
        "    <tr>\n",
        "      <th>2012-10-07 09:33:00</th>\n",
        "      <td> 50</td>\n",
        "      <td> 0</td>\n",
        "      <td> 16</td>\n",
        "      <td> True</td>\n",
        "    </tr>\n",
        "    <tr>\n",
        "      <th>2012-10-08 09:33:00</th>\n",
        "      <td> 60</td>\n",
        "      <td> 0</td>\n",
        "      <td> 16</td>\n",
        "      <td> True</td>\n",
        "    </tr>\n",
        "    <tr>\n",
        "      <th>2012-10-05 08:33:00</th>\n",
        "      <td> 10</td>\n",
        "      <td> 0</td>\n",
        "      <td> 16</td>\n",
        "      <td> True</td>\n",
        "    </tr>\n",
        "    <tr>\n",
        "      <th>2012-10-05 09:33:00</th>\n",
        "      <td> 20</td>\n",
        "      <td> 0</td>\n",
        "      <td> 16</td>\n",
        "      <td> True</td>\n",
        "    </tr>\n",
        "    <tr>\n",
        "      <th>2012-10-05 10:33:00</th>\n",
        "      <td> 30</td>\n",
        "      <td> 0</td>\n",
        "      <td> 16</td>\n",
        "      <td> True</td>\n",
        "    </tr>\n",
        "    <tr>\n",
        "      <th>2012-10-06 09:33:00</th>\n",
        "      <td> 40</td>\n",
        "      <td> 0</td>\n",
        "      <td> 16</td>\n",
        "      <td> True</td>\n",
        "    </tr>\n",
        "    <tr>\n",
        "      <th>2012-10-07 09:33:00</th>\n",
        "      <td> 50</td>\n",
        "      <td> 0</td>\n",
        "      <td> 16</td>\n",
        "      <td> True</td>\n",
        "    </tr>\n",
        "    <tr>\n",
        "      <th>2012-10-08 09:33:00</th>\n",
        "      <td> 60</td>\n",
        "      <td> 0</td>\n",
        "      <td> 16</td>\n",
        "      <td> True</td>\n",
        "    </tr>\n",
        "  </tbody>\n",
        "</table>\n",
        "<p>12 rows \u00d7 4 columns</p>\n",
        "</div>"
       ],
       "metadata": {},
       "output_type": "pyout",
       "prompt_number": 39,
       "text": [
        "                     res  mth  qal   cnt\n",
        "dte                                     \n",
        "2012-10-05 08:33:00   10    0   16  True\n",
        "2012-10-05 09:33:00   20    0   16  True\n",
        "2012-10-05 10:33:00   30    0   16  True\n",
        "2012-10-06 09:33:00   40    0   16  True\n",
        "2012-10-07 09:33:00   50    0   16  True\n",
        "2012-10-08 09:33:00   60    0   16  True\n",
        "2012-10-05 08:33:00   10    0   16  True\n",
        "2012-10-05 09:33:00   20    0   16  True\n",
        "2012-10-05 10:33:00   30    0   16  True\n",
        "2012-10-06 09:33:00   40    0   16  True\n",
        "2012-10-07 09:33:00   50    0   16  True\n",
        "2012-10-08 09:33:00   60    0   16  True\n",
        "\n",
        "[12 rows x 4 columns]"
       ]
      }
     ],
     "prompt_number": 39
    },
    {
     "cell_type": "heading",
     "level": 4,
     "metadata": {},
     "source": [
      "Une obshydro.Serie \u00e0 partir du convertisseur SHOM:"
     ]
    },
    {
     "cell_type": "code",
     "collapsed": false,
     "input": [
      "from libhydro.conv import shom\n",
      "\n",
      "r = shom.serie_from_hfs('./tests/data/shom/LOCMARIAQUER.hfs')\n",
      "print(r)\n",
      "r.observations.plot()"
     ],
     "language": "python",
     "metadata": {},
     "outputs": [
      {
       "output_type": "stream",
       "stream": "stdout",
       "text": [
        "Serie H sur la Station LIMNI <sans code>::LOCMARIAQUER [0 capteur]\n",
        "Statut 0::sans validation\n",
        "------------------------------------------------------------------------\n",
        "Observations:\n",
        "                      res\n",
        "dte                      \n",
        "2013-01-23 00:00:00  3.46\n",
        "2013-01-23 00:10:00  3.51\n",
        "2013-01-23 00:20:00  3.55\n",
        "2013-01-23 00:30:00  3.58\n",
        "2013-01-23 00:40:00  3.62\n",
        "2013-01-23 00:50:00  3.64\n",
        "2013-01-23 01:00:00  3.66\n",
        "2013-01-23 01:10:00  3.68\n",
        "2013-01-23 01:20:00  3.70\n",
        "2013-01-23 01:30:00  3.70\n",
        "2013-01-23 01:40:00  3.71\n",
        "2013-01-23 01:50:00  3.70\n",
        "2013-01-23 02:00:00  3.70\n",
        "2013-01-23 02:10:00  3.68\n",
        "2013-01-23 02:20:00  3.67\n",
        "                      ...\n",
        "\n",
        "[144 rows x 1 columns]\n"
       ]
      },
      {
       "metadata": {},
       "output_type": "pyout",
       "prompt_number": 40,
       "text": [
        "<matplotlib.axes.AxesSubplot at 0x374f150>"
       ]
      },
      {
       "metadata": {},
       "output_type": "display_data",
       "png": "[encoded data removed]",
       "text": [
        "<matplotlib.figure.Figure at 0x38440d0>"
       ]
      }
     ],
     "prompt_number": 40
    },
    {
     "cell_type": "heading",
     "level": 2,
     "metadata": {},
     "source": [
      "Le module core.obsmeteo"
     ]
    },
    {
     "cell_type": "markdown",
     "metadata": {},
     "source": [
      "Les observations m\u00e9t\u00e9orologiques sont codifi\u00e9es comme les observations hydrom\u00e9triques sous la forme de pandas.DataFrame.\n",
      "A la diff\u00e9rence du scenario d'\u00e9change xml Sandre Hydrom\u00e9trie, les observations m\u00e9t\u00e9orologiques sont regroup\u00e9es dans des s\u00e9ries.\n",
      "Se reporter au paragraphe sur les observations hydrom\u00e9triques pour des exemples d'utilisation des pandas.DataFrame."
     ]
    },
    {
     "cell_type": "code",
     "collapsed": false,
     "input": [
      "from libhydro.core import sitemeteo\n",
      "from libhydro.core import obsmeteo\n",
      "\n",
      "s = sitemeteo.Sitemeteo('033210002')\n",
      "r = obsmeteo.Serie(\n",
      "    grandeur=sitemeteo.Grandeur(typemesure='RR', sitemeteo=s),\n",
      "    duree = 3600,\n",
      "    observations=obsmeteo.Observations(\n",
      "        # attention, heure TU si le fuseau horaire n'est pas pr\u00e9cis\u00e9\n",
      "        obsmeteo.Observation('2012-10-05 08:33+00', 10, 4, 16, 75),\n",
      "        obsmeteo.Observation('2012-10-05 13:33', 40),\n",
      "        obsmeteo.Observation('2012-10-05 14:33', 50),\n",
      "        obsmeteo.Observation('2012-10-05 17:33', 30),\n",
      "        obsmeteo.Observation('2012-10-05 16:33', 60),\n",
      "        obsmeteo.Observation('2012-10-05 09:33Z', 20)\n",
      "    )\n",
      ")\n",
      "# tri ascendant par l'index\n",
      "r.observations.sort(axis=0, inplace=True)\n",
      "print(r)"
     ],
     "language": "python",
     "metadata": {},
     "outputs": [
      {
       "output_type": "stream",
       "stream": "stdout",
       "text": [
        "Serie RR sur le site meteorologique 033210002\n",
        "Statut 0::sans validation\n",
        "Duree 60.0 mn\n",
        "------------------------------------------------------------------------\n",
        "Observations:\n",
        "                     res  mth  qal  qua\n",
        "dte                                    \n",
        "2012-10-05 08:33:00   10    4   16   75\n",
        "2012-10-05 09:33:00   20    0   16  NaN\n",
        "2012-10-05 11:33:00   40    0   16  NaN\n",
        "2012-10-05 12:33:00   50    0   16  NaN\n",
        "2012-10-05 14:33:00   60    0   16  NaN\n",
        "2012-10-05 15:33:00   30    0   16  NaN\n",
        "\n",
        "[6 rows x 4 columns]\n"
       ]
      }
     ],
     "prompt_number": 41
    },
    {
     "cell_type": "code",
     "collapsed": false,
     "input": [
      "# la m\u00e9thode resample de la Serie permet, entre autres, de garantir un index continu entre dtdeb et dtfin\n",
      "r.resample(r.duree)\n",
      "print(r)"
     ],
     "language": "python",
     "metadata": {},
     "outputs": [
      {
       "output_type": "stream",
       "stream": "stdout",
       "text": [
        "Serie RR sur le site meteorologique 033210002\n",
        "Statut 0::sans validation\n",
        "Duree 60.0 mn\n",
        "------------------------------------------------------------------------\n",
        "Observations:\n",
        "                     res  mth  qal  qua\n",
        "dte                                    \n",
        "2012-10-05 08:00:00   10    4   16   75\n",
        "2012-10-05 09:00:00   20    0   16  NaN\n",
        "2012-10-05 10:00:00  NaN  NaN  NaN  NaN\n",
        "2012-10-05 11:00:00   40    0   16  NaN\n",
        "2012-10-05 12:00:00   50    0   16  NaN\n",
        "2012-10-05 13:00:00  NaN  NaN  NaN  NaN\n",
        "2012-10-05 14:00:00   60    0   16  NaN\n",
        "2012-10-05 15:00:00   30    0   16  NaN\n",
        "\n",
        "[8 rows x 4 columns]\n"
       ]
      }
     ],
     "prompt_number": 42
    },
    {
     "cell_type": "heading",
     "level": 2,
     "metadata": {},
     "source": [
      "Le module core.simulation"
     ]
    },
    {
     "cell_type": "markdown",
     "metadata": {},
     "source": [
      "Les simulation.Previsions sont des pandas.Series avec un double index (hiearchical index): une date et une probabilit\u00e9 de pr\u00e9vision.\n",
      "En d\u00e9rogation au mod\u00e8le de donn\u00e9es, les r\u00e9sultats (min, moy ,max) sont trait\u00e9s comme des pr\u00e9visions de probabilit\u00e9 respective (0, 50, 100)."
     ]
    },
    {
     "cell_type": "heading",
     "level": 4,
     "metadata": {},
     "source": [
      "Instancier une simulation"
     ]
    },
    {
     "cell_type": "code",
     "collapsed": false,
     "input": [
      "from libhydro.core import simulation, sitehydro\n",
      "\n",
      "u = simulation.Simulation(\n",
      "    entite=sitehydro.Stationhydro(code='O034552001'),\n",
      "    grandeur='H',\n",
      "    previsions=simulation.Previsions(\n",
      "        simulation.Prevision(dte='2012-10-11 10:00Z', res=42, prb=50),\n",
      "        simulation.Prevision(dte='2012-10-12 10:00Z', res=43, prb=50),\n",
      "        simulation.Prevision(dte='2012-10-12 10:00Z', res=53, prb=33),\n",
      "        simulation.Prevision(dte='2012-10-13 10:00Z', res=44, prb=100),\n",
      "        simulation.Prevision(dte='2012-10-13 10:00Z', res=88, prb=50),\n",
      "        simulation.Prevision(dte='2012-10-13 10:00Z', res=440, prb=0),\n",
      "        simulation.Prevision(dte='2012-10-13 11:00Z', res=45, prb=0)\n",
      "    )\n",
      ")\n",
      "print(u)"
     ],
     "language": "python",
     "metadata": {},
     "outputs": [
      {
       "output_type": "stream",
       "stream": "stdout",
       "text": [
        "Simulation brute de H sur la Station LIMNI O034552001::<sans libelle> [0 capteur]\n",
        "Date de production: <inconnue> - Qualite <inconnue>\n",
        "Commentaire: <sans>\n",
        "------------------------------------------------------------------------\n",
        "<modele inconnu>\n",
        "------------------------------------------------------------------------\n",
        "Previsions:\n",
        " dte                  prb\n",
        "2012-10-11 10:00:00  50      42\n",
        "2012-10-12 10:00:00  50      43\n",
        "                     33      53\n",
        "2012-10-13 10:00:00  100     44\n",
        "                     50      88\n",
        "                     0      440\n",
        "2012-10-13 11:00:00  0       45\n",
        "Name: res, dtype: float64\n"
       ]
      }
     ],
     "prompt_number": 43
    },
    {
     "cell_type": "heading",
     "level": 4,
     "metadata": {},
     "source": [
      "Manipuler les pr\u00e9visions"
     ]
    },
    {
     "cell_type": "code",
     "collapsed": false,
     "input": [
      "# toutes les pr\u00e9visions d'une probabilit\u00e9 donn\u00e9e\n",
      "print(u.previsions[:,50])\n",
      "print('-' * 70)\n",
      "\n",
      "# extraction d'une valeur\n",
      "print(u.previsions['2012-10-12 10:00'])\n",
      "print('-' * 70)\n",
      "print(u.previsions['2012-10-12 10:00'][33] + 1)\n",
      "print('-' * 70)\n",
      "\n",
      "# slicing partiel\n",
      "print(u.previsions[:'2012-10-13 10:00'])\n",
      "print('-' * 70)\n",
      "\n",
      "# slicing complet\n",
      "print(u.previsions['2012-10-12 10:00Z':'2012-10-13 10:00Z'])\n",
      "print('-' * 70)\n",
      "\n",
      "# fuzzy slice\n",
      "# ATTENTION, on ne peut pas faire un fuzzy slice directement sur le double index\n",
      "print(u.previsions[:,50]['2012-10-12':'2012-10-13 23:52'])\n",
      "print('-' * 70)\n"
     ],
     "language": "python",
     "metadata": {},
     "outputs": [
      {
       "output_type": "stream",
       "stream": "stdout",
       "text": [
        "dte\n",
        "2012-10-11 10:00:00    42\n",
        "2012-10-12 10:00:00    43\n",
        "2012-10-13 10:00:00    88\n",
        "Name: res, dtype: float64\n",
        "----------------------------------------------------------------------\n",
        "prb\n",
        "50     43\n",
        "33     53\n",
        "Name: res, dtype: float64\n",
        "----------------------------------------------------------------------\n",
        "54.0\n",
        "----------------------------------------------------------------------\n",
        "dte                  prb\n",
        "2012-10-11 10:00:00  50      42\n",
        "2012-10-12 10:00:00  50      43\n",
        "                     33      53\n",
        "2012-10-13 10:00:00  100     44\n",
        "                     50      88\n",
        "                     0      440\n",
        "Name: res, dtype: float64\n",
        "----------------------------------------------------------------------\n",
        "dte                  prb\n",
        "2012-10-12 10:00:00  50      43\n",
        "                     33      53\n",
        "2012-10-13 10:00:00  100     44\n",
        "                     50      88\n",
        "                     0      440\n",
        "Name: res, dtype: float64\n",
        "----------------------------------------------------------------------\n",
        "dte\n",
        "2012-10-12 10:00:00    43\n",
        "2012-10-13 10:00:00    88\n",
        "Name: res, dtype: float64\n",
        "----------------------------------------------------------------------\n"
       ]
      }
     ],
     "prompt_number": 44
    },
    {
     "cell_type": "heading",
     "level": 4,
     "metadata": {},
     "source": [
      "Une Simulation \u00e0 partir du convertisseur SHOM"
     ]
    },
    {
     "cell_type": "code",
     "collapsed": false,
     "input": [
      "from libhydro.conv import shom\n",
      "import pylab\n",
      "\n",
      "font = {'family': 'sans', 'color': 'darkgreen', 'weight': 'bold', 'size': 20}\n",
      "\n",
      "r = shom.simulation_from_hfs('./tests/data/shom/LOCMARIAQUER.hfs')\n",
      "print(r)\n",
      "r.previsions['2013-01-23 10:00':'2013-01-23 23:00'].plot(\n",
      "    style='^', color='r', grid=0, linewidth=5\n",
      ")\n",
      "# title\n",
      "pylab.title('Graphique data SHOM', fontdict=font)\n",
      "pylab.text(1, 4.5, r.entite, fontdict={'family': 'sans', 'color': 'green', 'size': 12})\n",
      "# axis\n",
      "pylab.xlabel('Date', fontdict=font)\n",
      "pylab.ylabel('Hauteur', fontdict=font)\n",
      "pylab.xticks(rotation=45)\n",
      "pylab.legend(loc='upper right')"
     ],
     "language": "python",
     "metadata": {},
     "outputs": [
      {
       "output_type": "stream",
       "stream": "stdout",
       "text": [
        "Simulation critiquee de H sur la Station LIMNI <sans code>::LOCMARIAQUER [0 capteur]\n",
        "Date de production: <inconnue> - Qualite 100%\n",
        "Commentaire: data SHOM\n",
        "------------------------------------------------------------------------\n",
        "Modele de type <inconnu> SCnMERshom::<sans libelle>\n",
        "Description: <sans description>\n",
        "------------------------------------------------------------------------\n",
        "Previsions:\n",
        " dte                  prb\n",
        "2013-01-23 00:00:00  50     3.46\n",
        "2013-01-23 00:10:00  50     3.51\n",
        "2013-01-23 00:20:00  50     3.55\n",
        "2013-01-23 00:30:00  50     3.58\n",
        "2013-01-23 00:40:00  50     3.62\n",
        "2013-01-23 00:50:00  50     3.64\n",
        "2013-01-23 01:00:00  50     3.66\n",
        "2013-01-23 01:10:00  50     3.68\n",
        "2013-01-23 01:20:00  50     3.70\n",
        "2013-01-23 01:30:00  50     3.70\n",
        "2013-01-23 01:40:00  50     3.71\n",
        "2013-01-23 01:50:00  50     3.70\n",
        "2013-01-23 02:00:00  50     3.70\n",
        "2013-01-23 02:10:00  50     3.68\n",
        "2013-01-23 02:20:00  50     3.67\n",
        "...\n",
        "2013-01-23 21:30:00  50     1.85\n",
        "2013-01-23 21:40:00  50     1.92\n",
        "2013-01-23 21:50:00  50     2.01\n",
        "2013-01-23 22:00:00  50     2.09\n",
        "2013-01-23 22:10:00  50     2.19\n",
        "2013-01-23 22:20:00  50     2.28\n",
        "2013-01-23 22:30:00  50     2.38\n",
        "2013-01-23 22:40:00  50     2.48\n",
        "2013-01-23 22:50:00  50     2.59\n",
        "2013-01-23 23:00:00  50     2.69\n",
        "2013-01-23 23:10:00  50     2.79\n",
        "2013-01-23 23:20:00  50     2.89\n",
        "2013-01-23 23:30:00  50     2.99\n",
        "2013-01-23 23:40:00  50     3.09\n",
        "2013-01-23 23:50:00  50     3.18\n",
        "Name: res, Length: 144, dtype: float64\n"
       ]
      },
      {
       "metadata": {},
       "output_type": "pyout",
       "prompt_number": 45,
       "text": [
        "<matplotlib.legend.Legend at 0x3ba1990>"
       ]
      },
      {
       "metadata": {},
       "output_type": "display_data",
       "png": "[encoded data removed]",
       "text": [
        "<matplotlib.figure.Figure at 0x3ba3d10>"
       ]
      }
     ],
     "prompt_number": 45
    },
    {
     "cell_type": "raw",
     "metadata": {},
     "source": [
      "Options for the color characters are:\n",
      " 'r' = red\n",
      " 'g' = green\n",
      " 'b' = blue\n",
      " 'c' = cyan\n",
      " 'm' = magenta\n",
      " 'y' = yellow\n",
      " 'k' = black\n",
      " 'w' = white\n",
      "\n",
      "Options for line styles are:\n",
      " '-' = solid\n",
      " '--' = dashed\n",
      " ':' = dotted\n",
      " '-.' = dot-dashed\n",
      " '.' = points\n",
      " 'o' = filled circles\n",
      " '^' = filled triangles"
     ]
    },
    {
     "cell_type": "heading",
     "level": 2,
     "metadata": {},
     "source": [
      "Les autres modules core impl\u00e9ment\u00e9s: intervenant et modeleprevision"
     ]
    },
    {
     "cell_type": "code",
     "collapsed": false,
     "input": [
      "from libhydro.core import (intervenant, modeleprevision)\n",
      "\n",
      "c = intervenant.Contact(code=10, nom='R\u00f4bert', prenom='Julia', civilite='2')\n",
      "i = intervenant.Intervenant(code='1537', nom='Service Des Inondations', mnemo='SCHAPI', contacts=[c])\n",
      "c.intervenant = i\n",
      "print(c, ' *** ', c.intervenant)"
     ],
     "language": "python",
     "metadata": {},
     "outputs": [
      {
       "output_type": "stream",
       "stream": "stdout",
       "text": [
        "Contact 10::Madame R\u00f4bert Julia [intervenant 1537]  ***  Intervenant SANDRE 1537::Service Des Inondations [1 contact]\n"
       ]
      }
     ],
     "prompt_number": 46
    },
    {
     "cell_type": "raw",
     "metadata": {},
     "source": [
      "Classe Contact: Classe pour manipuler des contacts.\n",
      "\n",
      "Proprietes:\n",
      "    code (entier < 9999, defaut 0)\n",
      "    nom (string)\n",
      "    prenom (string)\n",
      "    civilite (entier parmi NOMENCLATURE[538])\n",
      "    intervenant (Intervenant)\n",
      "\n",
      "\n",
      "Classe Intervenant: Classe pour manipuler les intervenants Sandre.\n",
      "\n",
      "Proprietes:\n",
      "    code (int) = code SIRET (14 chiffres) ou Sandre\n",
      "    origine (string in (SIRET, SANDRE)) = origine du code\n",
      "    nom (string) = nom de l'intervenant\n",
      "    mnemo (string) = mnemonique\n",
      "    contacts (une liste de Contact)"
     ]
    },
    {
     "cell_type": "code",
     "collapsed": false,
     "input": [
      "from libhydro.core import modeleprevision\n",
      "\n",
      "m = modeleprevision.Modeleprevision(code='ScnMerSHOM', libelle='pr\u00e9dictions du SHOM', typemodele=3, description='un mod\u00e8le de test')\n",
      "print(m)"
     ],
     "language": "python",
     "metadata": {},
     "outputs": [
      {
       "output_type": "stream",
       "stream": "stdout",
       "text": [
        "Modele de type 3 ScnMerSHOM::pr\u00e9dictions du SHOM\n",
        "Description: un mod\u00e8le de test\n"
       ]
      }
     ],
     "prompt_number": 47
    },
    {
     "cell_type": "raw",
     "metadata": {},
     "source": [
      "Class Modeleprevision.\n",
      "\n",
      "Classe pour manipuler les modeles numeriques de prevision.\n",
      "\n",
      "Proprietes:\n",
      "    code (string <= 10) =\n",
      "    libelle (string)\n",
      "    typemodele (integer parmi NOMENCLATURE[525])\n",
      "    description (string)"
     ]
    },
    {
     "cell_type": "heading",
     "level": 2,
     "metadata": {},
     "source": [
      "Le convertisseur Xml Hydrom\u00e9trie"
     ]
    },
    {
     "cell_type": "heading",
     "level": 4,
     "metadata": {},
     "source": [
      "La classe Scenario:"
     ]
    },
    {
     "cell_type": "markdown",
     "metadata": {},
     "source": [
      "Il est obligatoire de d\u00e9finir un sc\u00e9nario pour \u00e9crire un message XML Hydrom\u00e9trie."
     ]
    },
    {
     "cell_type": "code",
     "collapsed": false,
     "input": [
      "from libhydro.conv import xml\n",
      "from libhydro.core import intervenant\n",
      "\n",
      "# \u00e9metteur et destinataire peuvent \u00eatre des Intervenants ou des Contacts\n",
      "\n",
      "# pour un Intervenant utilis\u00e9 comme \u00e9metteur ou destinataire, la d\u00e9finition d'un contact est facultative\n",
      "emetteur = intervenant.Intervenant(code=23, nom='Ma Soci\u00e9t\u00e9', mnemo='MaSoc')\n",
      "emetteur.contacts = [\n",
      "    intervenant.Contact(23, nom='Jean', prenom='Robert', civilite=1),  # le premier contact sera utilis\u00e9 dans le Scenario\n",
      "    intervenant.Contact(842, nom='Marie', prenom='Jeanne', civilite=2)\n",
      "]\n",
      "\n",
      "# pour un Contact utilis\u00e9 comme \u00e9metteur ou destinataire, l'intervenant de rattachement est obligatoire\n",
      "destinataire = intervenant.Contact(code=45, nom='Lucien', prenom='Georges')\n",
      "destinataire.intervenant = intervenant.Intervenant(code=1537, mnemo='SCHAPI')\n",
      "\n",
      "scenario = xml.Scenario(emetteur=emetteur, destinataire=destinataire)\n",
      "print('{}\\n'.format(scenario))"
     ],
     "language": "python",
     "metadata": {},
     "outputs": [
      {
       "output_type": "stream",
       "stream": "stdout",
       "text": [
        "Message du 2014-08-25 16:33:27.891842\n",
        "Emetteur: Intervenant SANDRE 23::Ma Soci\u00e9t\u00e9 [2 contacts] [Contact 23::Monsieur Jean Robert [intervenant 23]]\n",
        "Destinataire: Intervenant SANDRE 1537::SCHAPI [0 contact] [Contact 45::<sans civilite> Lucien Georges [intervenant 1537]]\n",
        "\n"
       ]
      }
     ],
     "prompt_number": 48
    },
    {
     "cell_type": "heading",
     "level": 4,
     "metadata": {},
     "source": [
      "La classe Message:"
     ]
    },
    {
     "cell_type": "markdown",
     "metadata": {},
     "source": [
      "Un message ce compose d'un sc\u00e9nario obligatoire et de collections d'objets principaux de la libhydro, facultatifs. On peux passer ces listes d'objets au constructeur du messsage et/ou les modifier par les m\u00e9thodes de liste habituelles (append, extend, slicing...).\n"
     ]
    },
    {
     "cell_type": "code",
     "collapsed": false,
     "input": [
      "from libhydro.conv import xml\n",
      "\n",
      "print(xml.Message.__doc__)"
     ],
     "language": "python",
     "metadata": {},
     "outputs": [
      {
       "output_type": "stream",
       "stream": "stdout",
       "text": [
        "ClasseMessage.\n",
        "\n",
        "    Classe pour manipuler les messages Xml hydrometrie.\n",
        "\n",
        "    Proprietes:\n",
        "        scenario (xml.Scenario) = un objet Scenario obligatoire\n",
        "        intervenants (liste d'intervenant.Intervenant)\n",
        "        siteshydro (liste de sitehydro.Sitehydro)\n",
        "        sitesmeteo (liste de sitemeteo.Sitemeteo)\n",
        "        seuilshydro (liste de seuil.Seuilhydro)\n",
        "        modelesprevision (liste de modeleprevision.Modeleprevision)\n",
        "        evenements (liste de evenement.Evenement)\n",
        "        serieshydro (liste de obshydro.Serie)\n",
        "        seriesmeteo (liste de obsmeteo.Serie)\n",
        "        simulations (liste de simulation.Simulation)\n",
        "\n",
        "    \n"
       ]
      }
     ],
     "prompt_number": 49
    },
    {
     "cell_type": "heading",
     "level": 4,
     "metadata": {},
     "source": [
      "Message from xml and msg.show():"
     ]
    },
    {
     "cell_type": "markdown",
     "metadata": {},
     "source": [
      "La m\u00e9thode principale pour lire un fichier xml est d'utiliser le constructeur xml.Message.from_file(fichier_source).\n",
      "On r\u00e9cup\u00e8re un objet Message contenant tous les \u00e9l\u00e9ments qui ont pu \u00eatre d\u00e9cod\u00e9s."
     ]
    },
    {
     "cell_type": "code",
     "collapsed": false,
     "input": [
      "from libhydro.conv import xml\n",
      "\n",
      "msg = xml.Message.from_file('./tests/data/xml/1.1/siteshydro.xml')\n",
      "print('{}\\n'.format(msg))\n",
      "print(msg.show())"
     ],
     "language": "python",
     "metadata": {},
     "outputs": [
      {
       "output_type": "stream",
       "stream": "stdout",
       "text": [
        "Message du 2010-02-26 12:53:10\n",
        "Emetteur: Intervenant SANDRE 25::<sans nom> [1 contact] [Contact 1069::<sans civilite> <sans nom> <sans prenom> [intervenant 25]]\n",
        "Destinataire: Intervenant SANDRE 1537::<sans nom> [1 contact] [Contact <sans code>::<sans civilite> <sans nom> <sans prenom> [intervenant 1537]]\n",
        "Contenu:\n",
        "    0 intervenants\n",
        "    4 siteshydro\n",
        "    0 sitesmeteo\n",
        "    0 seuilshydro\n",
        "    0 modelesprevision\n",
        "    0 evenements\n",
        "    0 serieshydro\n",
        "    0 seriesmeteo\n",
        "    0 simulations\n",
        "\n",
        "<?xml version='1.0' encoding='UTF-8'?>\n",
        "<hydrometrie xmlns:xsi=\"http://www.w3.org/2001/XMLSchema-instance\" xmlns=\"http://xml.sandre.eaufrance.fr/scenario/hydrometrie/1.1\" xsi:schemaLocation=\"http://xml.sandre.eaufrance.fr/scenario/hydrometrie/1.1 http://xml.sandre.eaufrance.fr/scenario/hydrometrie/1.1/sandre_sc_hydrometrie.xsd\">\n",
        "  <Scenario>\n",
        "    <CodeScenario>hydrometrie</CodeScenario>\n",
        "    <VersionScenario>1.1</VersionScenario>\n",
        "    <NomScenario>Echange de donn\u00e9es hydrom\u00e9triques</NomScenario>\n",
        "    <DateHeureCreationFichier>2010-02-26T12:53:10</DateHeureCreationFichier>\n",
        "    <Emetteur>\n",
        "      <CdIntervenant schemeAgencyID=\"SANDRE\">25</CdIntervenant>\n",
        "      <CdContact>1069</CdContact>\n",
        "    </Emetteur>\n",
        "    <Destinataire>\n",
        "      <CdIntervenant schemeAgencyID=\"SANDRE\">1537</CdIntervenant>\n",
        "    </Destinataire>\n",
        "  </Scenario>\n",
        "  <RefHyd>\n",
        "    <SitesHydro>\n",
        "      <SiteHydro>\n",
        "        <CdSiteHydro>A1984310</CdSiteHydro>\n",
        "        <TypSiteHydro>REEL</TypSiteHydro>\n",
        "      </SiteHydro>\n",
        "      <SiteHydro>\n",
        "        <CdSiteHydro>O1984310</CdSiteHydro>\n",
        "        <LbSiteHydro>Le Touch \u00e0 Toulouse [Saint-Martin-du-Touch]</LbSiteHydro>\n",
        "        <LbUsuelSiteHydro>St-Martin-du-Touch</LbUsuelSiteHydro>\n",
        "        <TypSiteHydro>SOURCE</TypSiteHydro>\n",
        "        <CdCommune>11354</CdCommune>\n",
        "        <CdCommune>11355</CdCommune>\n",
        "        <CdCommune>2B021</CdCommune>\n",
        "        <StationsHydro>\n",
        "          <StationHydro>\n",
        "            <CdStationHydro>O198431001</CdStationHydro>\n",
        "            <LbStationHydro>Le Touch \u00e0 Toulouse [Saint-Martin-du-Touch] - station 1</LbStationHydro>\n",
        "            <TypStationHydro>LIMNI</TypStationHydro>\n",
        "            <ComplementLibelleStationHydro>station 1</ComplementLibelleStationHydro>\n",
        "            <NiveauAffichageStationHydro>911</NiveauAffichageStationHydro>\n",
        "          </StationHydro>\n",
        "          <StationHydro>\n",
        "            <CdStationHydro>O198431002</CdStationHydro>\n",
        "            <LbStationHydro>Le Touch \u00e0 Toulouse [Saint-Martin-du-Touch] - station 2</LbStationHydro>\n",
        "            <TypStationHydro>LIMNI</TypStationHydro>\n",
        "            <ComplementLibelleStationHydro>station 2</ComplementLibelleStationHydro>\n",
        "            <NiveauAffichageStationHydro>0</NiveauAffichageStationHydro>\n",
        "          </StationHydro>\n",
        "          <StationHydro>\n",
        "            <CdStationHydro>O198431003</CdStationHydro>\n",
        "            <LbStationHydro>station 3</LbStationHydro>\n",
        "            <TypStationHydro>LIMNI</TypStationHydro>\n",
        "            <NiveauAffichageStationHydro>0</NiveauAffichageStationHydro>\n",
        "          </StationHydro>\n",
        "        </StationsHydro>\n",
        "      </SiteHydro>\n",
        "      <SiteHydro>\n",
        "        <CdSiteHydro>O2000040</CdSiteHydro>\n",
        "        <LbSiteHydro>La Garonne \u00e0 Toulouse</LbSiteHydro>\n",
        "        <LbUsuelSiteHydro>Toulouse</LbUsuelSiteHydro>\n",
        "        <TypSiteHydro>REEL</TypSiteHydro>\n",
        "        <StationsHydro>\n",
        "          <StationHydro>\n",
        "            <CdStationHydro>O200004001</CdStationHydro>\n",
        "            <LbStationHydro>La Garonne \u00e0 Toulouse - station 1</LbStationHydro>\n",
        "            <TypStationHydro>LIMNI</TypStationHydro>\n",
        "            <ComplementLibelleStationHydro>\u00e9chelle principale</ComplementLibelleStationHydro>\n",
        "            <CoordStationHydro>\n",
        "              <CoordXStationHydro>15.0</CoordXStationHydro>\n",
        "              <CoordYStationHydro>16.0</CoordYStationHydro>\n",
        "              <ProjCoordStationHydro>26</ProjCoordStationHydro>\n",
        "            </CoordStationHydro>\n",
        "            <NiveauAffichageStationHydro>0</NiveauAffichageStationHydro>\n",
        "          </StationHydro>\n",
        "        </StationsHydro>\n",
        "      </SiteHydro>\n",
        "      <SiteHydro>\n",
        "        <CdSiteHydro>O1712510</CdSiteHydro>\n",
        "        <LbSiteHydro>L'Ari\u00e8ge \u00e0 Auterive</LbSiteHydro>\n",
        "        <LbUsuelSiteHydro>AUTERIVE</LbUsuelSiteHydro>\n",
        "        <TypSiteHydro>REEL</TypSiteHydro>\n",
        "        <CoordSiteHydro>\n",
        "          <CoordXSiteHydro>618766.0</CoordXSiteHydro>\n",
        "          <CoordYSiteHydro>1781803.0</CoordYSiteHydro>\n",
        "          <ProjCoordSiteHydro>26</ProjCoordSiteHydro>\n",
        "        </CoordSiteHydro>\n",
        "        <TronconsVigilanceSiteHydro>\n",
        "          <TronconVigilanceSiteHydro>\n",
        "            <CdTronconVigilance>AG3</CdTronconVigilance>\n",
        "          </TronconVigilanceSiteHydro>\n",
        "          <TronconVigilanceSiteHydro>\n",
        "            <CdTronconVigilance>AG5</CdTronconVigilance>\n",
        "            <NomCTronconVigilance>Troncon Adour \u00e0v\u00e2l</NomCTronconVigilance>\n",
        "          </TronconVigilanceSiteHydro>\n",
        "        </TronconsVigilanceSiteHydro>\n",
        "        <CdSiteHydroAncienRef>O1235401</CdSiteHydroAncienRef>\n",
        "        <StationsHydro>\n",
        "          <StationHydro>\n",
        "            <CdStationHydro>O171251001</CdStationHydro>\n",
        "            <LbStationHydro>L'Ari\u00e8ge \u00e0 Auterive - station de secours</LbStationHydro>\n",
        "            <TypStationHydro>LIMNI</TypStationHydro>\n",
        "            <CoordStationHydro>\n",
        "              <CoordXStationHydro>15.0</CoordXStationHydro>\n",
        "              <CoordYStationHydro>16.0</CoordYStationHydro>\n",
        "              <ProjCoordStationHydro>26</ProjCoordStationHydro>\n",
        "            </CoordStationHydro>\n",
        "            <NiveauAffichageStationHydro>1</NiveauAffichageStationHydro>\n",
        "            <ReseauxMesureStationHydro>\n",
        "              <CodeSandreRdd>10</CodeSandreRdd>\n",
        "              <CodeSandreRdd>1000000001</CodeSandreRdd>\n",
        "            </ReseauxMesureStationHydro>\n",
        "            <Capteurs>\n",
        "              <Capteur>\n",
        "                <CdCapteur>O17125100102</CdCapteur>\n",
        "                <LbCapteur>Radar</LbCapteur>\n",
        "                <TypMesureCapteur>H</TypMesureCapteur>\n",
        "              </Capteur>\n",
        "              <Capteur>\n",
        "                <CdCapteur>O17125100101</CdCapteur>\n",
        "                <LbCapteur>Ultrasons principal</LbCapteur>\n",
        "                <TypMesureCapteur>H</TypMesureCapteur>\n",
        "                <CdCapteurAncienRef>O1712510</CdCapteurAncienRef>\n",
        "              </Capteur>\n",
        "            </Capteurs>\n",
        "            <CdStationHydroAncienRef>O1712510</CdStationHydroAncienRef>\n",
        "            <CdCommune>11354</CdCommune>\n",
        "          </StationHydro>\n",
        "        </StationsHydro>\n",
        "      </SiteHydro>\n",
        "    </SitesHydro>\n",
        "  </RefHyd>\n",
        "</hydrometrie>\n",
        "\n"
       ]
      }
     ],
     "prompt_number": 50
    },
    {
     "cell_type": "heading",
     "level": 4,
     "metadata": {},
     "source": [
      "Ajouter des \u00e9l\u00e9ments \u00e0 un message:"
     ]
    },
    {
     "cell_type": "code",
     "collapsed": false,
     "input": [
      "msg2 = xml.Message.from_file('./tests/data/xml/1.1/serieshydro.xml')\n",
      "msg3 = xml.Message.from_file('./tests/data/xml/1.1/simulations.xml')\n",
      "msg.add(serieshydro=msg2.serieshydro, simulations=msg3.simulations)\n",
      "print(msg)"
     ],
     "language": "python",
     "metadata": {},
     "outputs": [
      {
       "output_type": "stream",
       "stream": "stdout",
       "text": [
        "Message du 2010-02-26 12:53:10\n",
        "Emetteur: Intervenant SANDRE 25::<sans nom> [1 contact] [Contact 1069::<sans civilite> <sans nom> <sans prenom> [intervenant 25]]\n",
        "Destinataire: Intervenant SANDRE 1537::<sans nom> [1 contact] [Contact <sans code>::<sans civilite> <sans nom> <sans prenom> [intervenant 1537]]\n",
        "Contenu:\n",
        "    0 intervenants\n",
        "    4 siteshydro\n",
        "    0 sitesmeteo\n",
        "    0 seuilshydro\n",
        "    0 modelesprevision\n",
        "    0 evenements\n",
        "    3 serieshydro\n",
        "    0 seriesmeteo\n",
        "    3 simulations\n"
       ]
      }
     ],
     "prompt_number": 51
    },
    {
     "cell_type": "heading",
     "level": 4,
     "metadata": {},
     "source": [
      "Enregistrer un message dans un fichier:"
     ]
    },
    {
     "cell_type": "code",
     "collapsed": false,
     "input": [
      "msg.write('/tmp/message.xml', force=True)\n",
      "print(msg.write.__doc__)"
     ],
     "language": "python",
     "metadata": {},
     "outputs": [
      {
       "output_type": "stream",
       "stream": "stdout",
       "text": [
        "Ecrit le Message dans le fichier dst.\n",
        "\n",
        "        Cette methode est un wrapper autour de lxml.etree.ElementTree.write.\n",
        "        Se referer a la documentation de lxml pour le detail des options.\n",
        "\n",
        "        Arguments:\n",
        "            file (str ou objet fichier)\n",
        "            encoding (string)\n",
        "            compression (int de 0 a 9) = niveau de compression gzip\n",
        "            force (bool, defaut False) = ecrase un fichier deja existant\n",
        "            bdhydro (bool, defaut False) = utilise le format bdhydro\n",
        "            ordered (bool, defaut False) = si True essaie de conserver l'ordre\n",
        "                de certains elements\n",
        "\n",
        "        \n"
       ]
      }
     ],
     "prompt_number": 52
    }
   ],
   "metadata": {}
  }
 ]
}